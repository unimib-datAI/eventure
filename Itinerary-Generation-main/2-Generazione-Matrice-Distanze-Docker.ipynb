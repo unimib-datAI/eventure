{
 "cells": [
  {
   "cell_type": "code",
   "execution_count": 1,
   "metadata": {},
   "outputs": [],
   "source": [
    "import requests\n",
    "import pandas as pd\n",
    "from itertools import combinations\n",
    "\n",
    "import time"
   ]
  },
  {
   "cell_type": "code",
   "execution_count": null,
   "metadata": {},
   "outputs": [],
   "source": [
    "import time\n",
    "import requests\n",
    "import pandas as pd\n",
    "from itertools import combinations\n",
    "\n",
    "# Load the POI data\n",
    "df = pd.read_csv('FEB_15_POI_DATA_CENTERED_2KM_DUMO.csv')\n",
    "#df = df.head(10)\n",
    "\n",
    "# Define the OSRM server URL\n",
    "osrm_base_url = \"http://127.0.0.1:5000\"\n",
    "\n",
    "# Initialize a list to store distances\n",
    "distances = []\n",
    "\n",
    "\n",
    "#http://localhost:5000/route/v1/foot/{lon1},{lat1};{lon2},{lat2}?overview=false\n",
    "\n",
    "# Iterate through all unique pairs of POIs\n",
    "for (i, row1), (j, row2) in combinations(df.iterrows(), 2):\n",
    "    time.sleep(0.1)  # Add a small delay to avoid overwhelming the server\n",
    "    \n",
    "    # Extract coordinates for the two POIs\n",
    "    coords1 = f\"{row1['LONGITUDE']},{row1['LATITUDE']}\"\n",
    "    coords2 = f\"{row2['LONGITUDE']},{row2['LATITUDE']}\"\n",
    "\n",
    "    # Build the OSRM query URL\n",
    "    osrm_url = f\"{osrm_base_url}/route/v1/foot/{coords1};{coords2}?overview=false\"\n",
    "\n",
    "    # Query OSRM\n",
    "    response = requests.get(osrm_url)\n",
    "\n",
    "    # Parse the response\n",
    "    if response.status_code == 200:\n",
    "        data = response.json()\n",
    "        # Extract distance (in meters)\n",
    "        distance = data['routes'][0]['distance']\n",
    "        # Extract duration (in seconds)\n",
    "        duration = data['routes'][0]['duration']\n",
    "        # Append to the distances list\n",
    "        distances.append({\n",
    "            'From_POI': row1['POI'],\n",
    "            'From_Type': row1['TYPE'],\n",
    "            'From_wiki': row1['WIKIDATA'],\n",
    "            'To_POI': row2['POI'],\n",
    "            'To_Type': row2['TYPE'],\n",
    "            'To_wiki': row2['WIKIDATA'],\n",
    "            'Distance (m)': distance,\n",
    "            'Duration (s)': duration\n",
    "        })\n",
    "    else:\n",
    "        print(f\"Error: Could not calculate route from {row1['POI']} to {row2['POI']}\")\n",
    "\n",
    "# Convert the distances list to a DataFrame\n",
    "distance_matrix_df = pd.DataFrame(distances)\n",
    "\n",
    "# Save the results to a CSV file\n",
    "distance_matrix_df.to_csv(\"poi_distances_with_types_and_wikidata_POI_final.csv\", index=False)\n",
    "\n",
    "# Optionally print a sample of the DataFrame\n",
    "distance_matrix_df"
   ]
  },
  {
   "cell_type": "code",
   "execution_count": null,
   "metadata": {},
   "outputs": [],
   "source": []
  }
 ],
 "metadata": {
  "kernelspec": {
   "display_name": ".venv",
   "language": "python",
   "name": "python3"
  },
  "language_info": {
   "codemirror_mode": {
    "name": "ipython",
    "version": 3
   },
   "file_extension": ".py",
   "mimetype": "text/x-python",
   "name": "python",
   "nbconvert_exporter": "python",
   "pygments_lexer": "ipython3",
   "version": "3.9.5"
  }
 },
 "nbformat": 4,
 "nbformat_minor": 2
}
